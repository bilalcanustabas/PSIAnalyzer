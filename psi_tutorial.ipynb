{
 "cells": [
  {
   "cell_type": "markdown",
   "metadata": {},
   "source": [
    "### Gerekli Kütüphaneler"
   ]
  },
  {
   "cell_type": "code",
   "execution_count": 1,
   "metadata": {},
   "outputs": [],
   "source": [
    "# Veri hazırlama kütüphaneleri ve fonksiyonları\n",
    "import pandas as pd # DataFrame işlemleri için gerekli kütüphane\n",
    "import numpy as np # Veri dönüşüm işlemleri için gerekli kütüphane\n",
    "from sklearn.datasets import make_classification # Örnek veri oluşturmamızı sağlayan fonksiyon\n",
    "from sklearn.model_selection import train_test_split\n",
    "import seaborn as sns\n",
    "import matplotlib.pyplot as plt\n",
    "# Deneylerde kullanılacak model sınıfları\n",
    "from lightgbm import LGBMClassifier # Testler için kullanacağımız modellerden biri\n",
    "# PSI fonksiyonu\n",
    "from psi import PSIAnalyzer"
   ]
  },
  {
   "cell_type": "markdown",
   "metadata": {},
   "source": [
    "### Örnek Verilerin Oluşturulması"
   ]
  },
  {
   "cell_type": "code",
   "execution_count": 2,
   "metadata": {},
   "outputs": [],
   "source": [
    "# Oluşturulan verinin tekrar oluşturulabilmesi için seed belirlenmesi\n",
    "seed=42\n",
    "np.random.seed(seed)"
   ]
  },
  {
   "cell_type": "code",
   "execution_count": 3,
   "metadata": {},
   "outputs": [
    {
     "name": "stdout",
     "output_type": "stream",
     "text": [
      "=========================    X DataFrame   =========================\n"
     ]
    },
    {
     "data": {
      "text/html": [
       "<div>\n",
       "<style scoped>\n",
       "    .dataframe tbody tr th:only-of-type {\n",
       "        vertical-align: middle;\n",
       "    }\n",
       "\n",
       "    .dataframe tbody tr th {\n",
       "        vertical-align: top;\n",
       "    }\n",
       "\n",
       "    .dataframe thead th {\n",
       "        text-align: right;\n",
       "    }\n",
       "</style>\n",
       "<table border=\"1\" class=\"dataframe\">\n",
       "  <thead>\n",
       "    <tr style=\"text-align: right;\">\n",
       "      <th></th>\n",
       "      <th>col_0</th>\n",
       "      <th>col_1</th>\n",
       "      <th>col_2</th>\n",
       "      <th>col_3</th>\n",
       "      <th>col_4</th>\n",
       "      <th>col_5</th>\n",
       "      <th>col_6</th>\n",
       "      <th>col_7</th>\n",
       "      <th>col_8</th>\n",
       "      <th>col_9</th>\n",
       "    </tr>\n",
       "  </thead>\n",
       "  <tbody>\n",
       "    <tr>\n",
       "      <th>0</th>\n",
       "      <td>3.197676</td>\n",
       "      <td>-2.800413</td>\n",
       "      <td>-1.527916</td>\n",
       "      <td>-0.491880</td>\n",
       "      <td>1.730903</td>\n",
       "      <td>0.521123</td>\n",
       "      <td>0.250006</td>\n",
       "      <td>1.469551</td>\n",
       "      <td>-1.714025</td>\n",
       "      <td>-0.186888</td>\n",
       "    </tr>\n",
       "    <tr>\n",
       "      <th>1</th>\n",
       "      <td>1.186403</td>\n",
       "      <td>0.448904</td>\n",
       "      <td>3.026690</td>\n",
       "      <td>-0.860983</td>\n",
       "      <td>-0.234724</td>\n",
       "      <td>-2.325762</td>\n",
       "      <td>-1.168963</td>\n",
       "      <td>0.588183</td>\n",
       "      <td>1.428323</td>\n",
       "      <td>0.768333</td>\n",
       "    </tr>\n",
       "    <tr>\n",
       "      <th>2</th>\n",
       "      <td>2.863709</td>\n",
       "      <td>-2.530777</td>\n",
       "      <td>-1.309516</td>\n",
       "      <td>-1.063332</td>\n",
       "      <td>1.226491</td>\n",
       "      <td>-0.870329</td>\n",
       "      <td>-0.283520</td>\n",
       "      <td>0.708026</td>\n",
       "      <td>-0.280935</td>\n",
       "      <td>0.356122</td>\n",
       "    </tr>\n",
       "    <tr>\n",
       "      <th>3</th>\n",
       "      <td>3.219682</td>\n",
       "      <td>-1.691040</td>\n",
       "      <td>0.859993</td>\n",
       "      <td>0.616355</td>\n",
       "      <td>1.012476</td>\n",
       "      <td>2.041413</td>\n",
       "      <td>0.146607</td>\n",
       "      <td>3.184386</td>\n",
       "      <td>-0.194316</td>\n",
       "      <td>0.953300</td>\n",
       "    </tr>\n",
       "    <tr>\n",
       "      <th>4</th>\n",
       "      <td>5.040023</td>\n",
       "      <td>-3.212000</td>\n",
       "      <td>-1.577097</td>\n",
       "      <td>-2.244883</td>\n",
       "      <td>1.327070</td>\n",
       "      <td>0.391909</td>\n",
       "      <td>1.558274</td>\n",
       "      <td>2.089386</td>\n",
       "      <td>-1.304580</td>\n",
       "      <td>0.085353</td>\n",
       "    </tr>\n",
       "  </tbody>\n",
       "</table>\n",
       "</div>"
      ],
      "text/plain": [
       "      col_0     col_1     col_2     col_3     col_4     col_5     col_6  \\\n",
       "0  3.197676 -2.800413 -1.527916 -0.491880  1.730903  0.521123  0.250006   \n",
       "1  1.186403  0.448904  3.026690 -0.860983 -0.234724 -2.325762 -1.168963   \n",
       "2  2.863709 -2.530777 -1.309516 -1.063332  1.226491 -0.870329 -0.283520   \n",
       "3  3.219682 -1.691040  0.859993  0.616355  1.012476  2.041413  0.146607   \n",
       "4  5.040023 -3.212000 -1.577097 -2.244883  1.327070  0.391909  1.558274   \n",
       "\n",
       "      col_7     col_8     col_9  \n",
       "0  1.469551 -1.714025 -0.186888  \n",
       "1  0.588183  1.428323  0.768333  \n",
       "2  0.708026 -0.280935  0.356122  \n",
       "3  3.184386 -0.194316  0.953300  \n",
       "4  2.089386 -1.304580  0.085353  "
      ]
     },
     "metadata": {},
     "output_type": "display_data"
    },
    {
     "name": "stdout",
     "output_type": "stream",
     "text": [
      "========================= Target Imbalance =========================\n",
      "0 count: 89591\n",
      "1 count: 10409\n"
     ]
    }
   ],
   "source": [
    "# `make_classification` ile sınıflandırmada kullanılabilecek dengesiz hedef değişkenli 100000 satırlı verinin oluşturulması\n",
    "X_aug, y_aug = make_classification(n_samples=100000, n_features=10, n_informative=7, weights=(0.9,0.1), random_state=seed)\n",
    "\n",
    "# Dataframe olarak incelemek için dönüşüm ve kolon isimlendirmesi\n",
    "X_aug = pd.DataFrame(X_aug, columns=[f\"col_{i}\" for i in range(X_aug.shape[1])])\n",
    "\n",
    "# Oluşturduğumuz verinin detaylarının basılması\n",
    "print(\"=\"*25, \"   X DataFrame  \", \"=\"*25)\n",
    "display(X_aug.head())\n",
    "print(\"=\"*25, \"Target Imbalance\", \"=\"*25)\n",
    "print(f\"0 count: {(y_aug==0).sum()}\")\n",
    "print(f\"1 count: {(y_aug==1).sum()}\")"
   ]
  },
  {
   "cell_type": "code",
   "execution_count": 4,
   "metadata": {},
   "outputs": [
    {
     "name": "stdout",
     "output_type": "stream",
     "text": [
      "=========================    X DataFrame   =========================\n"
     ]
    },
    {
     "data": {
      "text/html": [
       "<div>\n",
       "<style scoped>\n",
       "    .dataframe tbody tr th:only-of-type {\n",
       "        vertical-align: middle;\n",
       "    }\n",
       "\n",
       "    .dataframe tbody tr th {\n",
       "        vertical-align: top;\n",
       "    }\n",
       "\n",
       "    .dataframe thead th {\n",
       "        text-align: right;\n",
       "    }\n",
       "</style>\n",
       "<table border=\"1\" class=\"dataframe\">\n",
       "  <thead>\n",
       "    <tr style=\"text-align: right;\">\n",
       "      <th></th>\n",
       "      <th>col_0</th>\n",
       "      <th>col_1</th>\n",
       "      <th>col_2</th>\n",
       "      <th>col_3</th>\n",
       "      <th>col_4</th>\n",
       "      <th>col_5</th>\n",
       "      <th>col_6</th>\n",
       "      <th>col_7</th>\n",
       "      <th>col_8</th>\n",
       "      <th>col_9</th>\n",
       "    </tr>\n",
       "  </thead>\n",
       "  <tbody>\n",
       "    <tr>\n",
       "      <th>0</th>\n",
       "      <td>3.197676</td>\n",
       "      <td>-2.800413</td>\n",
       "      <td>-1.527916</td>\n",
       "      <td>-0.491880</td>\n",
       "      <td>1.730903</td>\n",
       "      <td>0.521123</td>\n",
       "      <td>0.250006</td>\n",
       "      <td>1.469551</td>\n",
       "      <td>-1.714025</td>\n",
       "      <td>-0.186888</td>\n",
       "    </tr>\n",
       "    <tr>\n",
       "      <th>1</th>\n",
       "      <td>1.186403</td>\n",
       "      <td>0.448904</td>\n",
       "      <td>3.026690</td>\n",
       "      <td>-0.860983</td>\n",
       "      <td>-0.234724</td>\n",
       "      <td>-2.325762</td>\n",
       "      <td>-1.168963</td>\n",
       "      <td>0.588183</td>\n",
       "      <td>1.428323</td>\n",
       "      <td>0.768333</td>\n",
       "    </tr>\n",
       "    <tr>\n",
       "      <th>2</th>\n",
       "      <td>2.863709</td>\n",
       "      <td>-2.530777</td>\n",
       "      <td>-1.309516</td>\n",
       "      <td>-1.063332</td>\n",
       "      <td>1.226491</td>\n",
       "      <td>-0.870329</td>\n",
       "      <td>-0.283520</td>\n",
       "      <td>0.708026</td>\n",
       "      <td>-0.280935</td>\n",
       "      <td>0.356122</td>\n",
       "    </tr>\n",
       "    <tr>\n",
       "      <th>3</th>\n",
       "      <td>3.219682</td>\n",
       "      <td>-1.691040</td>\n",
       "      <td>0.859993</td>\n",
       "      <td>0.616355</td>\n",
       "      <td>1.012476</td>\n",
       "      <td>2.041413</td>\n",
       "      <td>0.146607</td>\n",
       "      <td>3.184386</td>\n",
       "      <td>-0.194316</td>\n",
       "      <td>0.953300</td>\n",
       "    </tr>\n",
       "    <tr>\n",
       "      <th>4</th>\n",
       "      <td>5.040023</td>\n",
       "      <td>-3.212000</td>\n",
       "      <td>-1.577097</td>\n",
       "      <td>-2.244883</td>\n",
       "      <td>1.327070</td>\n",
       "      <td>0.391909</td>\n",
       "      <td>1.558274</td>\n",
       "      <td>2.089386</td>\n",
       "      <td>-1.304580</td>\n",
       "      <td>0.085353</td>\n",
       "    </tr>\n",
       "  </tbody>\n",
       "</table>\n",
       "</div>"
      ],
      "text/plain": [
       "      col_0     col_1     col_2     col_3     col_4     col_5     col_6  \\\n",
       "0  3.197676 -2.800413 -1.527916 -0.491880  1.730903  0.521123  0.250006   \n",
       "1  1.186403  0.448904  3.026690 -0.860983 -0.234724 -2.325762 -1.168963   \n",
       "2  2.863709 -2.530777 -1.309516 -1.063332  1.226491 -0.870329 -0.283520   \n",
       "3  3.219682 -1.691040  0.859993  0.616355  1.012476  2.041413  0.146607   \n",
       "4  5.040023 -3.212000 -1.577097 -2.244883  1.327070  0.391909  1.558274   \n",
       "\n",
       "      col_7     col_8     col_9  \n",
       "0  1.469551 -1.714025 -0.186888  \n",
       "1  0.588183  1.428323  0.768333  \n",
       "2  0.708026 -0.280935  0.356122  \n",
       "3  3.184386 -0.194316  0.953300  \n",
       "4  2.089386 -1.304580  0.085353  "
      ]
     },
     "metadata": {},
     "output_type": "display_data"
    },
    {
     "name": "stdout",
     "output_type": "stream",
     "text": [
      "========================= Target Imbalance =========================\n",
      "0 count: 86623\n",
      "1 count: 13377\n"
     ]
    }
   ],
   "source": [
    "# `make_classification` ile sınıflandırmada kullanılabilecek dengesiz hedef değişkenli 100000 satırlı verinin oluşturulması\n",
    "X_sep, y_sep = make_classification(n_samples=100000, n_features=10, n_informative=7, weights=(0.87,0.13), random_state=seed)\n",
    "#_, X_sep, _, y_sep = train_test_split(X_sep, y_sep, test_size=0.2, random_state=seed, stratify=y_sep)\n",
    "\n",
    "# Dataframe olarak incelemek için dönüşüm ve kolon isimlendirmesi\n",
    "X_sep = pd.DataFrame(X_sep, columns=[f\"col_{i}\" for i in range(X_sep.shape[1])])\n",
    "\n",
    "# Oluşturduğumuz verinin detaylarının basılması\n",
    "print(\"=\"*25, \"   X DataFrame  \", \"=\"*25)\n",
    "display(X_sep.head())\n",
    "print(\"=\"*25, \"Target Imbalance\", \"=\"*25)\n",
    "print(f\"0 count: {(y_sep==0).sum()}\")\n",
    "print(f\"1 count: {(y_sep==1).sum()}\")"
   ]
  },
  {
   "cell_type": "code",
   "execution_count": 5,
   "metadata": {},
   "outputs": [
    {
     "name": "stdout",
     "output_type": "stream",
     "text": [
      "=========================    X DataFrame   =========================\n"
     ]
    },
    {
     "data": {
      "text/html": [
       "<div>\n",
       "<style scoped>\n",
       "    .dataframe tbody tr th:only-of-type {\n",
       "        vertical-align: middle;\n",
       "    }\n",
       "\n",
       "    .dataframe tbody tr th {\n",
       "        vertical-align: top;\n",
       "    }\n",
       "\n",
       "    .dataframe thead th {\n",
       "        text-align: right;\n",
       "    }\n",
       "</style>\n",
       "<table border=\"1\" class=\"dataframe\">\n",
       "  <thead>\n",
       "    <tr style=\"text-align: right;\">\n",
       "      <th></th>\n",
       "      <th>col_0</th>\n",
       "      <th>col_1</th>\n",
       "      <th>col_2</th>\n",
       "      <th>col_3</th>\n",
       "      <th>col_4</th>\n",
       "      <th>col_5</th>\n",
       "      <th>col_6</th>\n",
       "      <th>col_7</th>\n",
       "      <th>col_8</th>\n",
       "      <th>col_9</th>\n",
       "    </tr>\n",
       "  </thead>\n",
       "  <tbody>\n",
       "    <tr>\n",
       "      <th>0</th>\n",
       "      <td>3.197676</td>\n",
       "      <td>-2.800413</td>\n",
       "      <td>-1.527916</td>\n",
       "      <td>-0.491880</td>\n",
       "      <td>1.730903</td>\n",
       "      <td>0.521123</td>\n",
       "      <td>0.250006</td>\n",
       "      <td>1.469551</td>\n",
       "      <td>-1.714025</td>\n",
       "      <td>-0.186888</td>\n",
       "    </tr>\n",
       "    <tr>\n",
       "      <th>1</th>\n",
       "      <td>1.186403</td>\n",
       "      <td>0.448904</td>\n",
       "      <td>3.026690</td>\n",
       "      <td>-0.860983</td>\n",
       "      <td>-0.234724</td>\n",
       "      <td>-2.325762</td>\n",
       "      <td>-1.168963</td>\n",
       "      <td>0.588183</td>\n",
       "      <td>1.428323</td>\n",
       "      <td>0.768333</td>\n",
       "    </tr>\n",
       "    <tr>\n",
       "      <th>2</th>\n",
       "      <td>2.863709</td>\n",
       "      <td>-2.530777</td>\n",
       "      <td>-1.309516</td>\n",
       "      <td>-1.063332</td>\n",
       "      <td>1.226491</td>\n",
       "      <td>-0.870329</td>\n",
       "      <td>-0.283520</td>\n",
       "      <td>0.708026</td>\n",
       "      <td>-0.280935</td>\n",
       "      <td>0.356122</td>\n",
       "    </tr>\n",
       "    <tr>\n",
       "      <th>3</th>\n",
       "      <td>3.219682</td>\n",
       "      <td>-1.691040</td>\n",
       "      <td>0.859993</td>\n",
       "      <td>0.616355</td>\n",
       "      <td>1.012476</td>\n",
       "      <td>2.041413</td>\n",
       "      <td>0.146607</td>\n",
       "      <td>3.184386</td>\n",
       "      <td>-0.194316</td>\n",
       "      <td>0.953300</td>\n",
       "    </tr>\n",
       "    <tr>\n",
       "      <th>4</th>\n",
       "      <td>5.040023</td>\n",
       "      <td>-3.212000</td>\n",
       "      <td>-1.577097</td>\n",
       "      <td>-2.244883</td>\n",
       "      <td>1.327070</td>\n",
       "      <td>0.391909</td>\n",
       "      <td>1.558274</td>\n",
       "      <td>2.089386</td>\n",
       "      <td>-1.304580</td>\n",
       "      <td>0.085353</td>\n",
       "    </tr>\n",
       "  </tbody>\n",
       "</table>\n",
       "</div>"
      ],
      "text/plain": [
       "      col_0     col_1     col_2     col_3     col_4     col_5     col_6  \\\n",
       "0  3.197676 -2.800413 -1.527916 -0.491880  1.730903  0.521123  0.250006   \n",
       "1  1.186403  0.448904  3.026690 -0.860983 -0.234724 -2.325762 -1.168963   \n",
       "2  2.863709 -2.530777 -1.309516 -1.063332  1.226491 -0.870329 -0.283520   \n",
       "3  3.219682 -1.691040  0.859993  0.616355  1.012476  2.041413  0.146607   \n",
       "4  5.040023 -3.212000 -1.577097 -2.244883  1.327070  0.391909  1.558274   \n",
       "\n",
       "      col_7     col_8     col_9  \n",
       "0  1.469551 -1.714025 -0.186888  \n",
       "1  0.588183  1.428323  0.768333  \n",
       "2  0.708026 -0.280935  0.356122  \n",
       "3  3.184386 -0.194316  0.953300  \n",
       "4  2.089386 -1.304580  0.085353  "
      ]
     },
     "metadata": {},
     "output_type": "display_data"
    },
    {
     "name": "stdout",
     "output_type": "stream",
     "text": [
      "========================= Target Imbalance =========================\n",
      "0 count: 69788\n",
      "1 count: 30212\n"
     ]
    }
   ],
   "source": [
    "# `make_classification` ile sınıflandırmada kullanılabilecek dengesiz hedef değişkenli 100000 satırlı verinin oluşturulması\n",
    "X_oct, y_oct = make_classification(n_samples=100000, n_features=10, n_informative=7, weights=(0.7,0.3), random_state=seed)\n",
    "#_, X_oct, _, y_oct = train_test_split(X_oct, y_oct, test_size=0.2, random_state=seed, stratify=y_oct)\n",
    "# Dataframe olarak incelemek için dönüşüm ve kolon isimlendirmesi\n",
    "X_oct = pd.DataFrame(X_oct, columns=[f\"col_{i}\" for i in range(X_oct.shape[1])])\n",
    "\n",
    "# Oluşturduğumuz verinin detaylarının basılması\n",
    "print(\"=\"*25, \"   X DataFrame  \", \"=\"*25)\n",
    "display(X_oct.head())\n",
    "print(\"=\"*25, \"Target Imbalance\", \"=\"*25)\n",
    "print(f\"0 count: {(y_oct==0).sum()}\")\n",
    "print(f\"1 count: {(y_oct==1).sum()}\")"
   ]
  },
  {
   "cell_type": "code",
   "execution_count": 6,
   "metadata": {},
   "outputs": [
    {
     "name": "stdout",
     "output_type": "stream",
     "text": [
      "=========================    X DataFrame   =========================\n"
     ]
    },
    {
     "data": {
      "text/html": [
       "<div>\n",
       "<style scoped>\n",
       "    .dataframe tbody tr th:only-of-type {\n",
       "        vertical-align: middle;\n",
       "    }\n",
       "\n",
       "    .dataframe tbody tr th {\n",
       "        vertical-align: top;\n",
       "    }\n",
       "\n",
       "    .dataframe thead th {\n",
       "        text-align: right;\n",
       "    }\n",
       "</style>\n",
       "<table border=\"1\" class=\"dataframe\">\n",
       "  <thead>\n",
       "    <tr style=\"text-align: right;\">\n",
       "      <th></th>\n",
       "      <th>col_0</th>\n",
       "      <th>col_1</th>\n",
       "      <th>col_2</th>\n",
       "      <th>col_3</th>\n",
       "      <th>col_4</th>\n",
       "      <th>col_5</th>\n",
       "      <th>col_6</th>\n",
       "      <th>col_7</th>\n",
       "      <th>col_8</th>\n",
       "      <th>col_9</th>\n",
       "    </tr>\n",
       "  </thead>\n",
       "  <tbody>\n",
       "    <tr>\n",
       "      <th>0</th>\n",
       "      <td>3.197676</td>\n",
       "      <td>-2.800413</td>\n",
       "      <td>-0.657048</td>\n",
       "      <td>1.151433</td>\n",
       "      <td>1.730903</td>\n",
       "      <td>0.521123</td>\n",
       "      <td>0.250006</td>\n",
       "      <td>3.380670</td>\n",
       "      <td>-1.714025</td>\n",
       "      <td>-0.186888</td>\n",
       "    </tr>\n",
       "    <tr>\n",
       "      <th>1</th>\n",
       "      <td>1.186403</td>\n",
       "      <td>0.448904</td>\n",
       "      <td>3.897559</td>\n",
       "      <td>0.782330</td>\n",
       "      <td>-0.234724</td>\n",
       "      <td>-2.325762</td>\n",
       "      <td>-1.168963</td>\n",
       "      <td>2.499301</td>\n",
       "      <td>1.428323</td>\n",
       "      <td>0.768333</td>\n",
       "    </tr>\n",
       "    <tr>\n",
       "      <th>2</th>\n",
       "      <td>2.863709</td>\n",
       "      <td>-2.530777</td>\n",
       "      <td>-0.438648</td>\n",
       "      <td>0.579981</td>\n",
       "      <td>1.226491</td>\n",
       "      <td>-0.870329</td>\n",
       "      <td>-0.283520</td>\n",
       "      <td>2.619145</td>\n",
       "      <td>-0.280935</td>\n",
       "      <td>0.356122</td>\n",
       "    </tr>\n",
       "    <tr>\n",
       "      <th>3</th>\n",
       "      <td>3.219682</td>\n",
       "      <td>-1.691040</td>\n",
       "      <td>1.730862</td>\n",
       "      <td>2.259668</td>\n",
       "      <td>1.012476</td>\n",
       "      <td>2.041413</td>\n",
       "      <td>0.146607</td>\n",
       "      <td>5.095504</td>\n",
       "      <td>-0.194316</td>\n",
       "      <td>0.953300</td>\n",
       "    </tr>\n",
       "    <tr>\n",
       "      <th>4</th>\n",
       "      <td>5.040023</td>\n",
       "      <td>-3.212000</td>\n",
       "      <td>-0.706228</td>\n",
       "      <td>-0.601571</td>\n",
       "      <td>1.327070</td>\n",
       "      <td>0.391909</td>\n",
       "      <td>1.558274</td>\n",
       "      <td>4.000504</td>\n",
       "      <td>-1.304580</td>\n",
       "      <td>0.085353</td>\n",
       "    </tr>\n",
       "  </tbody>\n",
       "</table>\n",
       "</div>"
      ],
      "text/plain": [
       "      col_0     col_1     col_2     col_3     col_4     col_5     col_6  \\\n",
       "0  3.197676 -2.800413 -0.657048  1.151433  1.730903  0.521123  0.250006   \n",
       "1  1.186403  0.448904  3.897559  0.782330 -0.234724 -2.325762 -1.168963   \n",
       "2  2.863709 -2.530777 -0.438648  0.579981  1.226491 -0.870329 -0.283520   \n",
       "3  3.219682 -1.691040  1.730862  2.259668  1.012476  2.041413  0.146607   \n",
       "4  5.040023 -3.212000 -0.706228 -0.601571  1.327070  0.391909  1.558274   \n",
       "\n",
       "      col_7     col_8     col_9  \n",
       "0  3.380670 -1.714025 -0.186888  \n",
       "1  2.499301  1.428323  0.768333  \n",
       "2  2.619145 -0.280935  0.356122  \n",
       "3  5.095504 -0.194316  0.953300  \n",
       "4  4.000504 -1.304580  0.085353  "
      ]
     },
     "metadata": {},
     "output_type": "display_data"
    },
    {
     "name": "stdout",
     "output_type": "stream",
     "text": [
      "========================= Target Imbalance =========================\n",
      "0 count: 89591\n",
      "1 count: 10409\n"
     ]
    }
   ],
   "source": [
    "# `make_classification` ile sınıflandırmada kullanılabilecek dengesiz hedef değişkenli 100000 satırlı verinin oluşturulması\n",
    "X_nov, y_nov = make_classification(n_samples=100000, n_features=10, n_informative=7, weights=(0.9,0.1), \n",
    "                                   shift=[np.random.lognormal(mean=0) if _ < 3 else 0 for _ in range(10)], random_state=seed)\n",
    "#_, X_nov, _, y_nov = train_test_split(X_nov, y_nov, test_size=0.2, random_state=seed, stratify=y_nov)\n",
    "# Dataframe olarak incelemek için dönüşüm ve kolon isimlendirmesi\n",
    "X_nov = pd.DataFrame(X_nov, columns=[f\"col_{i}\" for i in range(X_nov.shape[1])])\n",
    "\n",
    "# Oluşturduğumuz verinin detaylarının basılması\n",
    "print(\"=\"*25, \"   X DataFrame  \", \"=\"*25)\n",
    "display(X_nov.head())\n",
    "print(\"=\"*25, \"Target Imbalance\", \"=\"*25)\n",
    "print(f\"0 count: {(y_nov==0).sum()}\")\n",
    "print(f\"1 count: {(y_nov==1).sum()}\")"
   ]
  },
  {
   "cell_type": "markdown",
   "metadata": {},
   "source": [
    "### Model Eğitimi ve Farklı Aylar için Tahminler"
   ]
  },
  {
   "cell_type": "code",
   "execution_count": 7,
   "metadata": {},
   "outputs": [],
   "source": [
    "# Eğitim ve test setlerinin ayrıştırılması\n",
    "X_train_aug, X_test_aug, y_train_aug, y_test_aug = train_test_split(X_aug, y_aug, test_size=0.2, random_state=seed, stratify=y_aug)"
   ]
  },
  {
   "cell_type": "code",
   "execution_count": 8,
   "metadata": {},
   "outputs": [
    {
     "name": "stdout",
     "output_type": "stream",
     "text": [
      "[LightGBM] [Info] Number of positive: 8327, number of negative: 71673\n",
      "[LightGBM] [Info] Auto-choosing row-wise multi-threading, the overhead of testing was 0.000454 seconds.\n",
      "You can set `force_row_wise=true` to remove the overhead.\n",
      "And if memory is not enough, you can set `force_col_wise=true`.\n",
      "[LightGBM] [Info] Total Bins 2550\n",
      "[LightGBM] [Info] Number of data points in the train set: 80000, number of used features: 10\n",
      "[LightGBM] [Info] [binary:BoostFromScore]: pavg=0.104087 -> initscore=-2.152611\n",
      "[LightGBM] [Info] Start training from score -2.152611\n"
     ]
    },
    {
     "data": {
      "text/html": [
       "<style>#sk-container-id-1 {color: black;}#sk-container-id-1 pre{padding: 0;}#sk-container-id-1 div.sk-toggleable {background-color: white;}#sk-container-id-1 label.sk-toggleable__label {cursor: pointer;display: block;width: 100%;margin-bottom: 0;padding: 0.3em;box-sizing: border-box;text-align: center;}#sk-container-id-1 label.sk-toggleable__label-arrow:before {content: \"▸\";float: left;margin-right: 0.25em;color: #696969;}#sk-container-id-1 label.sk-toggleable__label-arrow:hover:before {color: black;}#sk-container-id-1 div.sk-estimator:hover label.sk-toggleable__label-arrow:before {color: black;}#sk-container-id-1 div.sk-toggleable__content {max-height: 0;max-width: 0;overflow: hidden;text-align: left;background-color: #f0f8ff;}#sk-container-id-1 div.sk-toggleable__content pre {margin: 0.2em;color: black;border-radius: 0.25em;background-color: #f0f8ff;}#sk-container-id-1 input.sk-toggleable__control:checked~div.sk-toggleable__content {max-height: 200px;max-width: 100%;overflow: auto;}#sk-container-id-1 input.sk-toggleable__control:checked~label.sk-toggleable__label-arrow:before {content: \"▾\";}#sk-container-id-1 div.sk-estimator input.sk-toggleable__control:checked~label.sk-toggleable__label {background-color: #d4ebff;}#sk-container-id-1 div.sk-label input.sk-toggleable__control:checked~label.sk-toggleable__label {background-color: #d4ebff;}#sk-container-id-1 input.sk-hidden--visually {border: 0;clip: rect(1px 1px 1px 1px);clip: rect(1px, 1px, 1px, 1px);height: 1px;margin: -1px;overflow: hidden;padding: 0;position: absolute;width: 1px;}#sk-container-id-1 div.sk-estimator {font-family: monospace;background-color: #f0f8ff;border: 1px dotted black;border-radius: 0.25em;box-sizing: border-box;margin-bottom: 0.5em;}#sk-container-id-1 div.sk-estimator:hover {background-color: #d4ebff;}#sk-container-id-1 div.sk-parallel-item::after {content: \"\";width: 100%;border-bottom: 1px solid gray;flex-grow: 1;}#sk-container-id-1 div.sk-label:hover label.sk-toggleable__label {background-color: #d4ebff;}#sk-container-id-1 div.sk-serial::before {content: \"\";position: absolute;border-left: 1px solid gray;box-sizing: border-box;top: 0;bottom: 0;left: 50%;z-index: 0;}#sk-container-id-1 div.sk-serial {display: flex;flex-direction: column;align-items: center;background-color: white;padding-right: 0.2em;padding-left: 0.2em;position: relative;}#sk-container-id-1 div.sk-item {position: relative;z-index: 1;}#sk-container-id-1 div.sk-parallel {display: flex;align-items: stretch;justify-content: center;background-color: white;position: relative;}#sk-container-id-1 div.sk-item::before, #sk-container-id-1 div.sk-parallel-item::before {content: \"\";position: absolute;border-left: 1px solid gray;box-sizing: border-box;top: 0;bottom: 0;left: 50%;z-index: -1;}#sk-container-id-1 div.sk-parallel-item {display: flex;flex-direction: column;z-index: 1;position: relative;background-color: white;}#sk-container-id-1 div.sk-parallel-item:first-child::after {align-self: flex-end;width: 50%;}#sk-container-id-1 div.sk-parallel-item:last-child::after {align-self: flex-start;width: 50%;}#sk-container-id-1 div.sk-parallel-item:only-child::after {width: 0;}#sk-container-id-1 div.sk-dashed-wrapped {border: 1px dashed gray;margin: 0 0.4em 0.5em 0.4em;box-sizing: border-box;padding-bottom: 0.4em;background-color: white;}#sk-container-id-1 div.sk-label label {font-family: monospace;font-weight: bold;display: inline-block;line-height: 1.2em;}#sk-container-id-1 div.sk-label-container {text-align: center;}#sk-container-id-1 div.sk-container {/* jupyter's `normalize.less` sets `[hidden] { display: none; }` but bootstrap.min.css set `[hidden] { display: none !important; }` so we also need the `!important` here to be able to override the default hidden behavior on the sphinx rendered scikit-learn.org. See: https://github.com/scikit-learn/scikit-learn/issues/21755 */display: inline-block !important;position: relative;}#sk-container-id-1 div.sk-text-repr-fallback {display: none;}</style><div id=\"sk-container-id-1\" class=\"sk-top-container\"><div class=\"sk-text-repr-fallback\"><pre>LGBMClassifier(random_state=42)</pre><b>In a Jupyter environment, please rerun this cell to show the HTML representation or trust the notebook. <br />On GitHub, the HTML representation is unable to render, please try loading this page with nbviewer.org.</b></div><div class=\"sk-container\" hidden><div class=\"sk-item\"><div class=\"sk-estimator sk-toggleable\"><input class=\"sk-toggleable__control sk-hidden--visually\" id=\"sk-estimator-id-1\" type=\"checkbox\" checked><label for=\"sk-estimator-id-1\" class=\"sk-toggleable__label sk-toggleable__label-arrow\">LGBMClassifier</label><div class=\"sk-toggleable__content\"><pre>LGBMClassifier(random_state=42)</pre></div></div></div></div></div>"
      ],
      "text/plain": [
       "LGBMClassifier(random_state=42)"
      ]
     },
     "execution_count": 8,
     "metadata": {},
     "output_type": "execute_result"
    }
   ],
   "source": [
    "model = LGBMClassifier(random_state=seed)\n",
    "model.fit(X_train_aug, y_train_aug)"
   ]
  },
  {
   "cell_type": "code",
   "execution_count": 9,
   "metadata": {},
   "outputs": [],
   "source": [
    "aug_probas = model.predict_proba(X_test_aug)[:,1]\n",
    "sep_probas = model.predict_proba(X_sep)[:,1]\n",
    "oct_probas = model.predict_proba(X_oct)[:,1]\n",
    "nov_probas = model.predict_proba(X_nov)[:,1]"
   ]
  },
  {
   "cell_type": "markdown",
   "metadata": {},
   "source": [
    "### Modele Girdi Olan Verinin Farklı Zamanlar Arasındaki Sapma Miktarı ve PSI Metriği"
   ]
  },
  {
   "cell_type": "markdown",
   "metadata": {},
   "source": [
    "#### Ağustos ve Eylül Kolon 2 için Karşılaştırma"
   ]
  },
  {
   "cell_type": "code",
   "execution_count": 10,
   "metadata": {},
   "outputs": [
    {
     "data": {
      "image/png": "[encoded data removed]",
      "text/plain": [
       "<Figure size 640x480 with 1 Axes>"
      ]
     },
     "metadata": {},
     "output_type": "display_data"
    },
    {
     "name": "stdout",
     "output_type": "stream",
     "text": [
      "0.0001383851259787947\n"
     ]
    }
   ],
   "source": [
    "psi_analyzer = PSIAnalyzer(X_aug[\"col_2\"], X_sep[\"col_2\"], group=10)\n",
    "psi, _ = psi_analyzer._psi_calculator()\n",
    "psi_analyzer._visualize()\n",
    "print(psi)"
   ]
  },
  {
   "cell_type": "markdown",
   "metadata": {},
   "source": [
    "#### Ağustos ve Ekim Kolon 2 için Karşılaştırma"
   ]
  },
  {
   "cell_type": "code",
   "execution_count": 11,
   "metadata": {},
   "outputs": [
    {
     "data": {
      "image/png": "[encoded data removed]",
      "text/plain": [
       "<Figure size 640x480 with 1 Axes>"
      ]
     },
     "metadata": {},
     "output_type": "display_data"
    },
    {
     "name": "stdout",
     "output_type": "stream",
     "text": [
      "0.005015935340493527\n"
     ]
    }
   ],
   "source": [
    "psi_analyzer = PSIAnalyzer(X_aug[\"col_2\"], X_oct[\"col_2\"], group=10)\n",
    "psi, _ = psi_analyzer._psi_calculator()\n",
    "psi_analyzer._visualize()\n",
    "print(psi)"
   ]
  },
  {
   "cell_type": "markdown",
   "metadata": {},
   "source": [
    "#### Ağustos ve Kasım Kolon 2 için Karşılaştırma"
   ]
  },
  {
   "cell_type": "code",
   "execution_count": 12,
   "metadata": {},
   "outputs": [
    {
     "data": {
      "image/png": "[encoded data removed]",
      "text/plain": [
       "<Figure size 640x480 with 1 Axes>"
      ]
     },
     "metadata": {},
     "output_type": "display_data"
    },
    {
     "name": "stdout",
     "output_type": "stream",
     "text": [
      "0.3008312056154566\n"
     ]
    }
   ],
   "source": [
    "psi_analyzer = PSIAnalyzer(X_aug[\"col_2\"], X_nov[\"col_2\"], group=10)\n",
    "psi, _ = psi_analyzer._psi_calculator()\n",
    "psi_analyzer._visualize()\n",
    "print(psi)"
   ]
  },
  {
   "cell_type": "markdown",
   "metadata": {},
   "source": [
    "### Modele Çıktılarının Farklı Zamanlar Arasındaki Sapma Miktarı ve PSI Metriği"
   ]
  },
  {
   "cell_type": "markdown",
   "metadata": {},
   "source": [
    "#### Ağustos ve Eylül Karşılaştırması"
   ]
  },
  {
   "cell_type": "code",
   "execution_count": 13,
   "metadata": {},
   "outputs": [
    {
     "data": {
      "image/png": "[encoded data removed]",
      "text/plain": [
       "<Figure size 640x480 with 1 Axes>"
      ]
     },
     "metadata": {},
     "output_type": "display_data"
    },
    {
     "name": "stdout",
     "output_type": "stream",
     "text": [
      "0.007324119946571525\n"
     ]
    }
   ],
   "source": [
    "psi_analyzer = PSIAnalyzer(aug_probas, sep_probas, group=10)\n",
    "psi, _ = psi_analyzer._psi_calculator()\n",
    "psi_analyzer._visualize()\n",
    "print(psi)"
   ]
  },
  {
   "cell_type": "markdown",
   "metadata": {},
   "source": [
    "#### Ağustos ve Ekim Karşılaştırması"
   ]
  },
  {
   "cell_type": "code",
   "execution_count": 14,
   "metadata": {},
   "outputs": [
    {
     "data": {
      "image/png": "[encoded data removed]",
      "text/plain": [
       "<Figure size 640x480 with 1 Axes>"
      ]
     },
     "metadata": {},
     "output_type": "display_data"
    },
    {
     "name": "stdout",
     "output_type": "stream",
     "text": [
      "0.22466516424763822\n"
     ]
    }
   ],
   "source": [
    "psi_analyzer = PSIAnalyzer(aug_probas, oct_probas, group=10)\n",
    "psi, _ = psi_analyzer._psi_calculator()\n",
    "psi_analyzer._visualize()\n",
    "print(psi)"
   ]
  },
  {
   "cell_type": "markdown",
   "metadata": {},
   "source": [
    "#### Ağustos ve Kasım Karşılaştırması"
   ]
  },
  {
   "cell_type": "code",
   "execution_count": 15,
   "metadata": {},
   "outputs": [
    {
     "data": {
      "image/png": "[encoded data removed]",
      "text/plain": [
       "<Figure size 640x480 with 1 Axes>"
      ]
     },
     "metadata": {},
     "output_type": "display_data"
    },
    {
     "name": "stdout",
     "output_type": "stream",
     "text": [
      "0.6824143400845694\n"
     ]
    }
   ],
   "source": [
    "psi_analyzer = PSIAnalyzer(aug_probas, nov_probas, group=10)\n",
    "psi, _ = psi_analyzer._psi_calculator()\n",
    "psi_analyzer._visualize()\n",
    "print(psi)"
   ]
  }
 ],
 "metadata": {
  "kernelspec": {
   "display_name": "pybase3_10",
   "language": "python",
   "name": "python3"
  },
  "language_info": {
   "codemirror_mode": {
    "name": "ipython",
    "version": 3
   },
   "file_extension": ".py",
   "mimetype": "text/x-python",
   "name": "python",
   "nbconvert_exporter": "python",
   "pygments_lexer": "ipython3",
   "version": "3.10.13"
  }
 },
 "nbformat": 4,
 "nbformat_minor": 2
}
